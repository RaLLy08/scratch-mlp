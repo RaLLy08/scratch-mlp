{
 "cells": [
  {
   "cell_type": "code",
   "execution_count": 33,
   "metadata": {},
   "outputs": [],
   "source": [
    "import numpy as np\n",
    "import matplotlib.pyplot as plt\n",
    "import math"
   ]
  },
  {
   "cell_type": "code",
   "execution_count": 2,
   "metadata": {},
   "outputs": [],
   "source": [
    "def plot_decision_boundary(model, X, y):\n",
    "    x_min, x_max = X[:, 0].min() - 1, X[:, 0].max() + 1\n",
    "    y_min, y_max = X[:, 1].min() - 1, X[:, 1].max() + 1\n",
    "    xx, yy = np.meshgrid(np.arange(x_min, x_max, 0.1),\n",
    "                         np.arange(y_min, y_max, 0.1))\n",
    "    \n",
    "    Z = model.forward(np.c_[xx.ravel(), yy.ravel()])\n",
    "    Z = (Z > 0.5).astype(int).reshape(xx.shape)\n",
    "    plt.contourf(xx, yy, Z, alpha=0.8)\n",
    "    plt.scatter(X[:, 0], X[:, 1], c=y, edgecolors='k', marker='o')\n",
    "    plt.xlabel('X1')\n",
    "    plt.ylabel('X2')\n",
    "    plt.show()"
   ]
  },
  {
   "cell_type": "markdown",
   "metadata": {},
   "source": [
    "Gradient descent"
   ]
  },
  {
   "cell_type": "code",
   "execution_count": 3,
   "metadata": {},
   "outputs": [
    {
     "data": {
      "image/png": "[encoded data removed]",
      "text/plain": [
       "<Figure size 640x480 with 1 Axes>"
      ]
     },
     "metadata": {},
     "output_type": "display_data"
    }
   ],
   "source": [
    "def sphere_2D(x):\n",
    "    return x**2\n",
    "\n",
    "def sphere_with_holes(x):\n",
    "    return x**2 + 30*np.exp(-0.2*(x-2)**2) + 2*np.exp(-0.5*(x+5)**2)\n",
    "\n",
    "def rasstrigin_2D(x):\n",
    "    return x**2 - 22*np.cos(2*np.pi*x) + 20\n",
    "\n",
    "def min_fn(x):\n",
    "    return sphere_with_holes(x)\n",
    "\n",
    "x_min = -10\n",
    "x_max = 10\n",
    "\n",
    "def plot_curve():\n",
    "    x_sp = np.linspace(x_min, x_max, 100)\n",
    "    y_sp = min_fn(x_sp)\n",
    "    plt.plot(x_sp, y_sp)\n",
    "\n",
    "def sp(x_p):\n",
    "    plot_curve()\n",
    "\n",
    "    plt.scatter([x_p],min_fn(x_p), s=200)\n",
    "    plt.show()\n",
    "\n",
    "def sp_many(x):\n",
    "    plot_curve()\n",
    "\n",
    "    plt.scatter(x,[min_fn(x) for x in x], s=100)\n",
    "    for x in x:\n",
    "        plt.text(x - 1, min_fn(x), x)\n",
    "\n",
    "\n",
    "sp_many([8, 9])\n",
    "\n"
   ]
  },
  {
   "cell_type": "code",
   "execution_count": 4,
   "metadata": {},
   "outputs": [],
   "source": [
    "x_train = np.array([\n",
    "    [1, 1],\n",
    "    [0, 1],\n",
    "    [1, 0],\n",
    "    [0, 0],\n",
    "])\n",
    "\n",
    "y_train = np.array([\n",
    "    [1],\n",
    "    [0],\n",
    "    [0],\n",
    "    [0],\n",
    "])\n",
    "\n",
    "# y_train = np.array([\n",
    "#     [0],\n",
    "#     [1],\n",
    "#     [1],\n",
    "#     [0],\n",
    "# ])\n",
    "\n",
    "# np.random.seed(0)\n",
    "\n",
    "class LayerDense:\n",
    "    @staticmethod\n",
    "    def relu(x):\n",
    "        return np.maximum(0, x)\n",
    "    \n",
    "    @staticmethod\n",
    "    def sigmoid(x):\n",
    "        return 1 / (1 + np.exp(-x))\n",
    "    \n",
    "    @staticmethod\n",
    "    def heaviside(x):\n",
    "        return np.heaviside(x, 0)\n",
    "    \n",
    "    @staticmethod\n",
    "    def softmax(x):\n",
    "        exp_values = np.exp(x - np.max(x, axis=1, keepdims=True))\n",
    "        probs = exp_values / np.sum(exp_values, axis=1, keepdims=True)\n",
    "        return probs\n",
    "\n",
    "    def __init__(self, inputs_len, neurons_len, activation=relu):\n",
    "        self.weights = np.random.rand(inputs_len, neurons_len)\n",
    "        self.biases = np.zeros(neurons_len)\n",
    "        self.activation = activation\n",
    "\n",
    "    def forward(self, inputs):\n",
    "        self.output = self.activation(np.dot(inputs, self.weights) + self.biases)\n",
    "\n",
    "\n",
    "\n",
    "class NeuralNetwork:\n",
    "    def __init__(self):\n",
    "        self.layers = []\n",
    "\n",
    "    def add(self, layer):\n",
    "        self.layers.append(layer)\n",
    "\n",
    "    def forward(self, inputs):\n",
    "        for layer in self.layers:\n",
    "            layer.forward(inputs)\n",
    "            inputs = layer.output\n",
    "\n",
    "    def fit(self, inputs, targets, lp=0.01, n_iter=10):\n",
    "        for _ in range(n_iter):\n",
    "            print(f'iter {_}')\n",
    "            for input, target in zip(inputs, targets):\n",
    "                self.updateWeightsBiases(input, target, lp)\n",
    "\n",
    "    def updateWeightsBiases(self, input, target, lp):\n",
    "        self.forward(input)\n",
    "        loss = self.calculate_loss(target)\n",
    "        print(f'loss {loss}')\n",
    "\n",
    "        for layer in self.layers:\n",
    "            for i in range(len(layer.weights)):\n",
    "                layer.weights[i] = layer.weights[i] + lp * loss * input[i]\n",
    "\n",
    "            layer.biases = layer.biases + lp * loss \n",
    "\n",
    "    def calculate_loss(self, target):\n",
    "        # return np.mean((target - self.output)**2)\n",
    "        return target - self.layers[-1].output\n",
    "    \n",
    "    def predict(self, inputs):\n",
    "        self.forward(inputs)\n",
    "        return self.layers[-1].output\n",
    "\n",
    "\n",
    "mlp = NeuralNetwork()\n",
    "\n",
    "\n",
    "mlp.add(LayerDense(2, 1, LayerDense.heaviside))\n",
    "\n",
    "\n",
    "\n"
   ]
  },
  {
   "cell_type": "code",
   "execution_count": 6,
   "metadata": {},
   "outputs": [
    {
     "name": "stdout",
     "output_type": "stream",
     "text": [
      "iter 0\n",
      "loss [0.]\n",
      "loss [-1.]\n",
      "loss [0.]\n",
      "loss [0.]\n",
      "iter 1\n",
      "loss [1.]\n",
      "loss [-1.]\n",
      "loss [0.]\n",
      "loss [0.]\n",
      "iter 2\n",
      "loss [0.]\n",
      "loss [0.]\n",
      "loss [0.]\n",
      "loss [0.]\n"
     ]
    }
   ],
   "source": [
    "mlp.fit(x_train, y_train, 0.1, 3)"
   ]
  },
  {
   "cell_type": "code",
   "execution_count": 7,
   "metadata": {},
   "outputs": [
    {
     "data": {
      "text/plain": [
       "array([[0.15367981],\n",
       "       [0.43611684]])"
      ]
     },
     "execution_count": 7,
     "metadata": {},
     "output_type": "execute_result"
    }
   ],
   "source": [
    "mlp.layers[0].weights"
   ]
  },
  {
   "cell_type": "code",
   "execution_count": 2231,
   "metadata": {},
   "outputs": [
    {
     "data": {
      "text/plain": [
       "array([0.])"
      ]
     },
     "execution_count": 2231,
     "metadata": {},
     "output_type": "execute_result"
    }
   ],
   "source": [
    "mlp.layers[0].output"
   ]
  },
  {
   "cell_type": "code",
   "execution_count": 8,
   "metadata": {},
   "outputs": [
    {
     "ename": "TypeError",
     "evalue": "'>' not supported between instances of 'NoneType' and 'float'",
     "output_type": "error",
     "traceback": [
      "\u001b[1;31m---------------------------------------------------------------------------\u001b[0m",
      "\u001b[1;31mTypeError\u001b[0m                                 Traceback (most recent call last)",
      "Cell \u001b[1;32mIn [8], line 1\u001b[0m\n\u001b[1;32m----> 1\u001b[0m \u001b[43mplot_decision_boundary\u001b[49m\u001b[43m(\u001b[49m\u001b[43mmlp\u001b[49m\u001b[43m,\u001b[49m\u001b[43m \u001b[49m\u001b[43mx_train\u001b[49m\u001b[43m,\u001b[49m\u001b[43m \u001b[49m\u001b[43my_train\u001b[49m\u001b[43m)\u001b[49m\n",
      "Cell \u001b[1;32mIn [2], line 8\u001b[0m, in \u001b[0;36mplot_decision_boundary\u001b[1;34m(model, X, y)\u001b[0m\n\u001b[0;32m      4\u001b[0m xx, yy \u001b[38;5;241m=\u001b[39m np\u001b[38;5;241m.\u001b[39mmeshgrid(np\u001b[38;5;241m.\u001b[39marange(x_min, x_max, \u001b[38;5;241m0.1\u001b[39m),\n\u001b[0;32m      5\u001b[0m                      np\u001b[38;5;241m.\u001b[39marange(y_min, y_max, \u001b[38;5;241m0.1\u001b[39m))\n\u001b[0;32m      7\u001b[0m Z \u001b[38;5;241m=\u001b[39m model\u001b[38;5;241m.\u001b[39mforward(np\u001b[38;5;241m.\u001b[39mc_[xx\u001b[38;5;241m.\u001b[39mravel(), yy\u001b[38;5;241m.\u001b[39mravel()])\n\u001b[1;32m----> 8\u001b[0m Z \u001b[38;5;241m=\u001b[39m (\u001b[43mZ\u001b[49m\u001b[43m \u001b[49m\u001b[38;5;241;43m>\u001b[39;49m\u001b[43m \u001b[49m\u001b[38;5;241;43m0.5\u001b[39;49m)\u001b[38;5;241m.\u001b[39mastype(\u001b[38;5;28mint\u001b[39m)\u001b[38;5;241m.\u001b[39mreshape(xx\u001b[38;5;241m.\u001b[39mshape)\n\u001b[0;32m      9\u001b[0m plt\u001b[38;5;241m.\u001b[39mcontourf(xx, yy, Z, alpha\u001b[38;5;241m=\u001b[39m\u001b[38;5;241m0.8\u001b[39m)\n\u001b[0;32m     10\u001b[0m plt\u001b[38;5;241m.\u001b[39mscatter(X[:, \u001b[38;5;241m0\u001b[39m], X[:, \u001b[38;5;241m1\u001b[39m], c\u001b[38;5;241m=\u001b[39my, edgecolors\u001b[38;5;241m=\u001b[39m\u001b[38;5;124m'\u001b[39m\u001b[38;5;124mk\u001b[39m\u001b[38;5;124m'\u001b[39m, marker\u001b[38;5;241m=\u001b[39m\u001b[38;5;124m'\u001b[39m\u001b[38;5;124mo\u001b[39m\u001b[38;5;124m'\u001b[39m)\n",
      "\u001b[1;31mTypeError\u001b[0m: '>' not supported between instances of 'NoneType' and 'float'"
     ]
    }
   ],
   "source": [
    "plot_decision_boundary(mlp, x_train, y_train)"
   ]
  },
  {
   "cell_type": "markdown",
   "metadata": {},
   "source": [
    "backpropagation"
   ]
  },
  {
   "cell_type": "code",
   "execution_count": 9,
   "metadata": {},
   "outputs": [],
   "source": [
    "from sklearn.datasets import make_blobs\n",
    "from sklearn.preprocessing import OneHotEncoder\n",
    "from sklearn.model_selection import train_test_split\n",
    "\n",
    "n_features = 2\n",
    "n_classes = 2\n",
    "n_samples= 300\n",
    "\n",
    "X, y = make_blobs(n_samples=n_samples, centers=n_classes, cluster_std=0.10, random_state=0, n_features=n_features)\n",
    "X_train, X_test, y_train, y_test = train_test_split(X, y, test_size=0.2, random_state=42)\n",
    "\n",
    "# encoder = OneHotEncoder(sparse=False)\n",
    "# y_train = encoder.fit_transform(y_train.reshape(-1, 1))\n",
    "# y_test = encoder.transform(y_test.reshape(-1, 1))"
   ]
  },
  {
   "cell_type": "code",
   "execution_count": 10,
   "metadata": {},
   "outputs": [
    {
     "data": {
      "text/plain": [
       "<matplotlib.collections.PathCollection at 0x1a56295afb0>"
      ]
     },
     "execution_count": 10,
     "metadata": {},
     "output_type": "execute_result"
    },
    {
     "data": {
      "image/png": "[encoded data removed]",
      "text/plain": [
       "<Figure size 640x480 with 1 Axes>"
      ]
     },
     "metadata": {},
     "output_type": "display_data"
    }
   ],
   "source": [
    "# scatter = plt.scatter(X_train[:, 0], X_train[:, 1], c=y_train[:, 0], edgecolors='k', marker='o')\n",
    "plt.scatter(X_train[:, 0], X_train[:, 1], c=y_train, edgecolors='k', marker='o')"
   ]
  },
  {
   "cell_type": "code",
   "execution_count": 11,
   "metadata": {},
   "outputs": [],
   "source": [
    "def df(f, a):\n",
    "    h = 0.0001\n",
    "    return ( f(a + h) - f(a) ) / h\n",
    "\n",
    "def sigmoid(x):\n",
    "    return 1 / (1 + np.exp(-x))\n",
    "\n",
    "def df_sigmoid(x):\n",
    "    return sigmoid(x) * (1 - sigmoid(x))"
   ]
  },
  {
   "cell_type": "code",
   "execution_count": 12,
   "metadata": {},
   "outputs": [
    {
     "data": {
      "text/plain": [
       "0.9999999999976694"
      ]
     },
     "execution_count": 12,
     "metadata": {},
     "output_type": "execute_result"
    }
   ],
   "source": [
    "df(LayerDense.relu, 4)"
   ]
  },
  {
   "cell_type": "code",
   "execution_count": 47,
   "metadata": {},
   "outputs": [
    {
     "name": "stdout",
     "output_type": "stream",
     "text": [
      "[[ 1.76405235  0.40015721  0.97873798  2.2408932 ]\n",
      " [ 1.86755799 -0.97727788  0.95008842 -0.15135721]]\n",
      "[[-0.10321885  0.4105985   0.14404357  1.45427351]\n",
      " [ 0.76103773  0.12167502  0.44386323  0.33367433]\n",
      " [ 1.49407907 -0.20515826  0.3130677  -0.85409574]\n",
      " [-2.55298982  0.6536186   0.8644362  -0.74216502]]\n",
      "[[ 2.26975462 -1.45436567]\n",
      " [ 0.04575852 -0.18718385]\n",
      " [ 1.53277921  1.46935877]\n",
      " [ 0.15494743  0.37816252]]\n"
     ]
    }
   ],
   "source": [
    "np.random.seed(0)\n",
    "\n",
    "class LayerDense:\n",
    "    @staticmethod\n",
    "    def relu(x):\n",
    "        return np.maximum(0, x)\n",
    "    \n",
    "    @staticmethod\n",
    "    def sigmoid(x):\n",
    "        x = np.clip(x, -500, 500)\n",
    "                \n",
    "        return 1 / (1 + np.exp(-x))\n",
    "    \n",
    "    @staticmethod\n",
    "    def heaviside(x):\n",
    "        return np.heaviside(x, 0)\n",
    "    \n",
    "    @staticmethod\n",
    "    def batch_softmax(x):\n",
    "        exp_values = np.exp(x - np.max(x, axis=1, keepdims=True))\n",
    "        probs = exp_values / np.sum(exp_values, axis=1, keepdims=True)\n",
    "        return probs\n",
    "    \n",
    "    @staticmethod\n",
    "    def softmax(x):\n",
    "        exp_x = np.exp(x - np.max(x)) \n",
    "        \n",
    "        return exp_x / np.sum(exp_x)\n",
    "    \n",
    "    def df_activation(self, activated_output):\n",
    "        \"\"\"\n",
    "            activated_output -> aL = σ(zL)\n",
    "        \"\"\"\n",
    "\n",
    "        if self.activation == LayerDense.sigmoid:\n",
    "            return activated_output * (1 - activated_output)\n",
    "        elif self.activation == LayerDense.relu:\n",
    "            return np.where(activated_output <= 0, 0, 1)\n",
    "        elif self.activation == LayerDense.softmax:\n",
    "            s = activated_output.reshape(-1, 1)\n",
    "\n",
    "            return np.diagflat(s) - np.dot(s, s.T)\n",
    "        elif self.activation == LayerDense.batch_softmax:\n",
    "            batch_size = activated_output.shape[0]\n",
    "            # Initialize the tensor for storing the derivatives\n",
    "            d_softmax = np.zeros((batch_size, activated_output.shape[1], activated_output.shape[1]))\n",
    "            for i in range(batch_size):\n",
    "                s = activated_output[i].reshape(-1, 1)\n",
    "                d_softmax[i] = np.diagflat(s) - np.dot(s, s.T)\n",
    "\n",
    "            return d_softmax\n",
    "\n",
    "\n",
    "    def __init__(self, inputs_len, neurons_len, activation=relu):\n",
    "        self.weights = np.random.randn(inputs_len, neurons_len)\n",
    "        print(self.weights)\n",
    "        self.biases = np.zeros(neurons_len)\n",
    "        self.activation = activation\n",
    "\n",
    "    def forward(self, inputs):\n",
    "        self.output = self.activation(np.dot(inputs, self.weights) + self.biases)\n",
    "        return self.output\n",
    "\n",
    "\n",
    "\n",
    "class NeuralNetwork:\n",
    "    @staticmethod\n",
    "    def loss_mse(y_true, y_pred):\n",
    "        return np.mean((y_true - y_pred)**2)\n",
    "    \n",
    "    \n",
    "    @staticmethod\n",
    "    def loss_binary_crossentropy(y_true, y_pred):\n",
    "        y_pred_clipped = np.clip(y_pred, 1e-7, 1-1e-7)\n",
    "\n",
    "        return -np.mean(y_true * np.log(y_pred_clipped) + (1 - y_true) * np.log(1 - y_pred_clipped))\n",
    "    \n",
    "    @staticmethod\n",
    "    def loss_categorical_crossentropy(y_true, y_pred):\n",
    "        return -np.mean(y_true * np.log(y_pred))\n",
    "    \n",
    "\n",
    "    def df_loss(self, y_true, y_pred):\n",
    "        if self.loss == NeuralNetwork.loss_mse:\n",
    "            return y_pred - y_true\n",
    "        elif self.loss == NeuralNetwork.loss_binary_crossentropy:\n",
    "            y_pred_clipped = np.clip(y_pred, 1e-7, 1-1e-7)\n",
    "            return -y_true / y_pred_clipped + (1 - y_true) / (1 - y_pred_clipped)\n",
    "        elif self.loss == NeuralNetwork.loss_categorical_crossentropy:\n",
    "            return -y_true / y_pred\n",
    "    \n",
    "\n",
    "    def __init__(self, loss=loss_mse):\n",
    "        self.loss = loss\n",
    "        self.layers = []\n",
    "\n",
    "    def add(self, layer):\n",
    "        self.layers.append(layer)\n",
    "\n",
    "    def forward(self, inputs):\n",
    "        for layer in self.layers:\n",
    "            layer.forward(inputs)\n",
    "            inputs = layer.output\n",
    "\n",
    "        return inputs\n",
    "\n",
    "    def backward_auto(self, inputs, y_true, y_pred, lp, batch_size):\n",
    "        layers_count = len(self.layers)\n",
    "\n",
    "        for layer_index in reversed(range(0, layers_count)):\n",
    "            layer = self.layers[layer_index]\n",
    "\n",
    "            is_output_layer = layer_index == layers_count - 1\n",
    "            \n",
    "            if is_output_layer:\n",
    "                # output layer\n",
    "\n",
    "                layer.grad_loss_input = self.df_loss(y_true, y_pred) # derivative of loss function = ∇aL | samples -> neurons\n",
    "                layer.activation_derivative = layer.df_activation(layer.output) # derivative of sigmoid(zL) = sigmoid(zL) * (1 - sigmoid(zL)) | samples -> neurons\n",
    "\n",
    "                layer.delta = layer.grad_loss_input * layer.activation_derivative # δL = ∇aL * σ'(zL) | samples -> neurons\n",
    "\n",
    "            else:\n",
    "                prev_backward_layer = self.layers[layer_index + 1]        \n",
    "\n",
    "                layer.propagated_error = np.dot(prev_backward_layer.delta, prev_backward_layer.weights.T) # δL * wL.T\n",
    "\n",
    "                layer.activation_derivative = layer.df_activation(layer.output) \n",
    "                layer.delta = layer.propagated_error * layer.activation_derivative\n",
    "\n",
    "\n",
    "            if layer_index != 0:\n",
    "                next_backward_layer = self.layers[layer_index - 1]\n",
    "\n",
    "                next_backward_layer_output = next_backward_layer.output.T\n",
    "            else:\n",
    "                next_backward_layer_output = inputs.T\n",
    "\n",
    "            layer.grad_loss_weights = np.dot(next_backward_layer_output, layer.delta) # ∇wL = aL-1.T * δL | neurons -> neurons\n",
    "            layer.grad_loss_biases = np.sum(layer.delta, axis=0, keepdims=True)  # ∇bL = δL | neurons -> 1\n",
    "\n",
    "            layer.weights = layer.weights - lp * layer.grad_loss_weights / batch_size\n",
    "            layer.biases = layer.biases - lp * layer.grad_loss_biases / batch_size\n",
    "\n",
    "    def test_backward_2_layers_only(self, inputs, y_true, y_pred, lp, batch_size):\n",
    "        output_layer = self.layers[1]\n",
    "\n",
    "        output_error = self.df_loss(y_true, y_pred) # derivative of loss function\n",
    "        output_derivative_activated = output_layer.df_activation(y_pred) # derivative of sigmoid(zL) = sigmoid(zL) * (1 - sigmoid(zL))\n",
    "    \n",
    "        output_delta = output_error * output_derivative_activated # δL = ∇aL * σ'(zL)\n",
    "    \n",
    "        hidden_layer = self.layers[0]\n",
    "\n",
    "        vw_loss_output = np.dot(hidden_layer.output.T, output_delta) # ∇wL = aL-1.T * δL\n",
    "        vb_loss_output = np.sum(output_delta, axis=0, keepdims=True) # ∇bL = δL\n",
    "\n",
    "\n",
    "        output_layer.weights = output_layer.weights - lp * vw_loss_output / batch_size\n",
    "        output_layer.biases = output_layer.biases - lp * vb_loss_output / batch_size\n",
    "\n",
    "        # next prev layer\n",
    "\n",
    "        activated_weights_from_output_to_hidden = output_layer.weights.T\n",
    "        hidden_error = np.dot(output_delta, activated_weights_from_output_to_hidden) # δL * wL.T\n",
    "\n",
    "        hidden_derivative_activated = hidden_layer.df_activation(hidden_layer.output) \n",
    "        hidden_delta = hidden_error * hidden_derivative_activated\n",
    "\n",
    "        vw_loss_hidden = np.dot(inputs.T, hidden_delta)\n",
    "        vb_loss_hidden = np.sum(hidden_delta, axis=0, keepdims=True)\n",
    "\n",
    "        hidden_layer.weights = hidden_layer.weights - lp * vw_loss_hidden / batch_size\n",
    "        hidden_layer.biases = hidden_layer.biases - lp * vb_loss_hidden / batch_size\n",
    "\n",
    "\n",
    "    def fit(self, inputs, y_true, lp=0.01, n_iter=10, batch_size=10):\n",
    "        for iter in range(n_iter):\n",
    "            for i in range(0, len(inputs), batch_size):\n",
    "                inputs_batch = inputs[i:i+batch_size]\n",
    "                y_true_batch = y_true[i:i+batch_size]\n",
    "                \n",
    "                y_hats = self.forward(inputs_batch) # y_hats -> aL = sigmoid(zL) | predicted output\n",
    "\n",
    "                self.backward_auto(inputs_batch, y_true_batch, y_hats, lp, batch_size)\n",
    "\n",
    "\n",
    "            # if iter % 5 == 0:\n",
    "            #     print(f'iter {iter}')\n",
    "            #     print(f'loss {self.loss(y_true, self.forward(inputs))}')\n",
    "        print(f'loss {self.loss(y_true, self.forward(inputs))}')\n",
    "        \n",
    "mlp = NeuralNetwork(loss=NeuralNetwork.loss_mse)\n",
    "\n",
    "mlp.add(LayerDense(n_features, 4, LayerDense.relu))\n",
    "mlp.add(LayerDense(4, 4, LayerDense.relu))\n",
    "mlp.add(LayerDense(4, 1, LayerDense.sigmoid))"
   ]
  },
  {
   "cell_type": "code",
   "execution_count": 48,
   "metadata": {},
   "outputs": [
    {
     "ename": "ValueError",
     "evalue": "shapes (4,1) and (2,2) not aligned: 1 (dim 1) != 2 (dim 0)",
     "output_type": "error",
     "traceback": [
      "\u001b[1;31m---------------------------------------------------------------------------\u001b[0m",
      "\u001b[1;31mValueError\u001b[0m                                Traceback (most recent call last)",
      "Cell \u001b[1;32mIn [48], line 3\u001b[0m\n\u001b[0;32m      1\u001b[0m reshaped_y_true \u001b[38;5;241m=\u001b[39m y_train\u001b[38;5;241m.\u001b[39mreshape(\u001b[38;5;241m-\u001b[39m\u001b[38;5;241m1\u001b[39m, \u001b[38;5;241m1\u001b[39m) \u001b[38;5;66;03m# [1, 0, 0, 0] -> [[1], [0], [0], [0]] | since here we have outputs from \u001b[39;00m\n\u001b[1;32m----> 3\u001b[0m \u001b[43mmlp\u001b[49m\u001b[38;5;241;43m.\u001b[39;49m\u001b[43mfit\u001b[49m\u001b[43m(\u001b[49m\u001b[43mX_train\u001b[49m\u001b[43m,\u001b[49m\u001b[43m \u001b[49m\u001b[43mreshaped_y_true\u001b[49m\u001b[43m,\u001b[49m\u001b[43m \u001b[49m\u001b[38;5;241;43m0.03\u001b[39;49m\u001b[43m,\u001b[49m\u001b[43m \u001b[49m\u001b[38;5;241;43m10\u001b[39;49m\u001b[43m,\u001b[49m\u001b[43m \u001b[49m\u001b[38;5;241;43m1\u001b[39;49m\u001b[43m)\u001b[49m\n\u001b[0;32m      5\u001b[0m plot_decision_boundary(mlp, X_train, y_train)\n",
      "Cell \u001b[1;32mIn [47], line 185\u001b[0m, in \u001b[0;36mNeuralNetwork.fit\u001b[1;34m(self, inputs, y_true, lp, n_iter, batch_size)\u001b[0m\n\u001b[0;32m    181\u001b[0m         y_true_batch \u001b[38;5;241m=\u001b[39m y_true[i:i\u001b[38;5;241m+\u001b[39mbatch_size]\n\u001b[0;32m    183\u001b[0m         y_hats \u001b[38;5;241m=\u001b[39m \u001b[38;5;28mself\u001b[39m\u001b[38;5;241m.\u001b[39mforward(inputs_batch) \u001b[38;5;66;03m# y_hats -> aL = sigmoid(zL) | predicted output\u001b[39;00m\n\u001b[1;32m--> 185\u001b[0m         \u001b[38;5;28;43mself\u001b[39;49m\u001b[38;5;241;43m.\u001b[39;49m\u001b[43mbackward_auto\u001b[49m\u001b[43m(\u001b[49m\u001b[43minputs_batch\u001b[49m\u001b[43m,\u001b[49m\u001b[43m \u001b[49m\u001b[43my_true_batch\u001b[49m\u001b[43m,\u001b[49m\u001b[43m \u001b[49m\u001b[43my_hats\u001b[49m\u001b[43m,\u001b[49m\u001b[43m \u001b[49m\u001b[43mlp\u001b[49m\u001b[43m,\u001b[49m\u001b[43m \u001b[49m\u001b[43mbatch_size\u001b[49m\u001b[43m)\u001b[49m\n\u001b[0;32m    188\u001b[0m     \u001b[38;5;66;03m# if iter % 5 == 0:\u001b[39;00m\n\u001b[0;32m    189\u001b[0m     \u001b[38;5;66;03m#     print(f'iter {iter}')\u001b[39;00m\n\u001b[0;32m    190\u001b[0m     \u001b[38;5;66;03m#     print(f'loss {self.loss(y_true, self.forward(inputs))}')\u001b[39;00m\n\u001b[0;32m    191\u001b[0m \u001b[38;5;28mprint\u001b[39m(\u001b[38;5;124mf\u001b[39m\u001b[38;5;124m'\u001b[39m\u001b[38;5;124mloss \u001b[39m\u001b[38;5;132;01m{\u001b[39;00m\u001b[38;5;28mself\u001b[39m\u001b[38;5;241m.\u001b[39mloss(y_true, \u001b[38;5;28mself\u001b[39m\u001b[38;5;241m.\u001b[39mforward(inputs))\u001b[38;5;132;01m}\u001b[39;00m\u001b[38;5;124m'\u001b[39m)\n",
      "Cell \u001b[1;32mIn [47], line 139\u001b[0m, in \u001b[0;36mNeuralNetwork.backward_auto\u001b[1;34m(self, inputs, y_true, y_pred, lp, batch_size)\u001b[0m\n\u001b[0;32m    136\u001b[0m \u001b[38;5;28;01melse\u001b[39;00m:\n\u001b[0;32m    137\u001b[0m     next_backward_layer_output \u001b[38;5;241m=\u001b[39m inputs\u001b[38;5;241m.\u001b[39mT\n\u001b[1;32m--> 139\u001b[0m layer\u001b[38;5;241m.\u001b[39mgrad_loss_weights \u001b[38;5;241m=\u001b[39m \u001b[43mnp\u001b[49m\u001b[38;5;241;43m.\u001b[39;49m\u001b[43mdot\u001b[49m\u001b[43m(\u001b[49m\u001b[43mnext_backward_layer_output\u001b[49m\u001b[43m,\u001b[49m\u001b[43m \u001b[49m\u001b[43mlayer\u001b[49m\u001b[38;5;241;43m.\u001b[39;49m\u001b[43mdelta\u001b[49m\u001b[43m)\u001b[49m \u001b[38;5;66;03m# ∇wL = aL-1.T * δL | neurons -> neurons\u001b[39;00m\n\u001b[0;32m    140\u001b[0m layer\u001b[38;5;241m.\u001b[39mgrad_loss_biases \u001b[38;5;241m=\u001b[39m np\u001b[38;5;241m.\u001b[39msum(layer\u001b[38;5;241m.\u001b[39mdelta, axis\u001b[38;5;241m=\u001b[39m\u001b[38;5;241m0\u001b[39m, keepdims\u001b[38;5;241m=\u001b[39m\u001b[38;5;28;01mTrue\u001b[39;00m)  \u001b[38;5;66;03m# ∇bL = δL | neurons -> 1\u001b[39;00m\n\u001b[0;32m    142\u001b[0m layer\u001b[38;5;241m.\u001b[39mweights \u001b[38;5;241m=\u001b[39m layer\u001b[38;5;241m.\u001b[39mweights \u001b[38;5;241m-\u001b[39m lp \u001b[38;5;241m*\u001b[39m layer\u001b[38;5;241m.\u001b[39mgrad_loss_weights \u001b[38;5;241m/\u001b[39m batch_size\n",
      "File \u001b[1;32m<__array_function__ internals>:180\u001b[0m, in \u001b[0;36mdot\u001b[1;34m(*args, **kwargs)\u001b[0m\n",
      "\u001b[1;31mValueError\u001b[0m: shapes (4,1) and (2,2) not aligned: 1 (dim 1) != 2 (dim 0)"
     ]
    }
   ],
   "source": [
    "reshaped_y_true = y_train.reshape(-1, 1) # [1, 0, 0, 0] -> [[1], [0], [0], [0]] | since here we have outputs from \n",
    "\n",
    "mlp.fit(X_train, reshaped_y_true, 0.03, 10, 1)\n",
    "\n",
    "plot_decision_boundary(mlp, X_train, y_train) "
   ]
  },
  {
   "cell_type": "code",
   "execution_count": 3371,
   "metadata": {},
   "outputs": [
    {
     "data": {
      "text/plain": [
       "<matplotlib.collections.PathCollection at 0x1e0b7f9f400>"
      ]
     },
     "execution_count": 3371,
     "metadata": {},
     "output_type": "execute_result"
    },
    {
     "data": {
      "image/png": "[encoded data removed]",
      "text/plain": [
       "<Figure size 640x480 with 1 Axes>"
      ]
     },
     "metadata": {},
     "output_type": "display_data"
    }
   ],
   "source": [
    "plt.scatter(X_train[:, 0], X_train[:, 1], c=mlp.forward(X_train).reshape(-1), edgecolors='k', marker='o')"
   ]
  },
  {
   "cell_type": "code",
   "execution_count": 35,
   "metadata": {},
   "outputs": [
    {
     "ename": "AttributeError",
     "evalue": "'LayerDense' object has no attribute 'output'",
     "output_type": "error",
     "traceback": [
      "\u001b[1;31m---------------------------------------------------------------------------\u001b[0m",
      "\u001b[1;31mAttributeError\u001b[0m                            Traceback (most recent call last)",
      "Cell \u001b[1;32mIn [35], line 1\u001b[0m\n\u001b[1;32m----> 1\u001b[0m LayerDense\u001b[38;5;241m.\u001b[39mbatch_softmax(np\u001b[38;5;241m.\u001b[39marray([\u001b[43mmlp\u001b[49m\u001b[38;5;241;43m.\u001b[39;49m\u001b[43mlayers\u001b[49m\u001b[43m[\u001b[49m\u001b[38;5;241;43m0\u001b[39;49m\u001b[43m]\u001b[49m\u001b[38;5;241;43m.\u001b[39;49m\u001b[43moutput\u001b[49m, mlp\u001b[38;5;241m.\u001b[39mlayers[\u001b[38;5;241m0\u001b[39m]\u001b[38;5;241m.\u001b[39moutput])), LayerDense\u001b[38;5;241m.\u001b[39msoftmax(mlp\u001b[38;5;241m.\u001b[39mlayers[\u001b[38;5;241m0\u001b[39m]\u001b[38;5;241m.\u001b[39moutput)\n",
      "\u001b[1;31mAttributeError\u001b[0m: 'LayerDense' object has no attribute 'output'"
     ]
    }
   ],
   "source": [
    "LayerDense.batch_softmax(np.array([mlp.layers[0].output, mlp.layers[0].output])), LayerDense.softmax(mlp.layers[0].output)\n"
   ]
  },
  {
   "cell_type": "code",
   "execution_count": 24,
   "metadata": {},
   "outputs": [
    {
     "data": {
      "text/plain": [
       "array([[ 1,  4,  9, 16]])"
      ]
     },
     "execution_count": 24,
     "metadata": {},
     "output_type": "execute_result"
    }
   ],
   "source": [
    "delta_3_batch_1_output = np.array(\n",
    "[\n",
    "     # 1 output\n",
    "    [1], # sample 1\n",
    "])\n",
    "\n",
    "\n",
    "\n",
    "output_hiddeen_3_batch = np.array([\n",
    "    # neuron 0 neuron 1  neuron 2  neuron 3\n",
    "    [1, 2, 3, 4], # sample 1\n",
    "\n",
    "])\n",
    "\n",
    "# print(output_hiddeen_3_batch.T)\n",
    "\n",
    "\n",
    "np.dot(delta_3_batch_1_output, output_hiddeen_3_batch) * np.array([1, 2, 3, 4])\n"
   ]
  },
  {
   "cell_type": "code",
   "execution_count": 3774,
   "metadata": {},
   "outputs": [
    {
     "data": {
      "text/plain": [
       "array([[1],\n",
       "       [2],\n",
       "       [3],\n",
       "       [4]])"
      ]
     },
     "execution_count": 3774,
     "metadata": {},
     "output_type": "execute_result"
    }
   ],
   "source": [
    "np.array([[1, 2, 3, 4]]).T"
   ]
  }
 ],
 "metadata": {
  "kernelspec": {
   "display_name": "Python 3",
   "language": "python",
   "name": "python3"
  },
  "language_info": {
   "codemirror_mode": {
    "name": "ipython",
    "version": 3
   },
   "file_extension": ".py",
   "mimetype": "text/x-python",
   "name": "python",
   "nbconvert_exporter": "python",
   "pygments_lexer": "ipython3",
   "version": "3.10.7"
  }
 },
 "nbformat": 4,
 "nbformat_minor": 2
}
